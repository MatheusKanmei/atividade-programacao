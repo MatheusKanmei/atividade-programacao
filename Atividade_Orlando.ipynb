{
  "nbformat": 4,
  "nbformat_minor": 0,
  "metadata": {
    "colab": {
      "provenance": [],
      "authorship_tag": "ABX9TyPp7oSda8+j3gSERpznY//3",
      "include_colab_link": true
    },
    "kernelspec": {
      "name": "python3",
      "display_name": "Python 3"
    },
    "language_info": {
      "name": "python"
    }
  },
  "cells": [
    {
      "cell_type": "markdown",
      "metadata": {
        "id": "view-in-github",
        "colab_type": "text"
      },
      "source": [
        "<a href=\"https://colab.research.google.com/github/MatheusKanmei/atividade-programacao/blob/main/Atividade_Orlando.ipynb\" target=\"_parent\"><img src=\"https://colab.research.google.com/assets/colab-badge.svg\" alt=\"Open In Colab\"/></a>"
      ]
    },
    {
      "cell_type": "code",
      "execution_count": 52,
      "metadata": {
        "colab": {
          "base_uri": "https://localhost:8080/"
        },
        "id": "msanMjrl-L4w",
        "outputId": "83c9ec35-96e1-4cba-ec26-f552b03352f7"
      },
      "outputs": [
        {
          "output_type": "stream",
          "name": "stdout",
          "text": [
            "\n",
            "\n"
          ]
        }
      ],
      "source": [
        "import json\n",
        "\n",
        "\n",
        "def setupJson():\n",
        "  with open(\"apostas.json\", 'w') as arq:\n",
        "    arq.write('{\\n\"apostas\": [\\n\\n]\\n}')\n",
        "setupJson()\n",
        "\n",
        "def lerApostas():\n",
        "  with open('apostas.json', 'r') as arq:\n",
        "    apostas = arq.readlines()\n",
        "  print(apostas[2])\n",
        "lerApostas()\n",
        "def registrarAposta(nome,numeros):\n",
        "  with open('aposta '+nome+'.json', 'w')as arq:\n",
        "    arq.write('{\\n')\n",
        "    arq.write('\"nome\": \"'+nome+'\",\\n')\n",
        "    arq.write('\"numeros\": '+str(numeros)+'\\n')\n",
        "    arq.write('}\\n')\n",
        "\n",
        "def lerApostaDe():\n",
        "  with open('apostas.json') as arquivo:\n",
        "    apostas = json.load(arquivo)\n",
        "  print(apostas)\n",
        "    \n",
        "\n"
      ]
    },
    {
      "cell_type": "code",
      "source": [
        "print(\"oi, tudo bom\")"
      ],
      "metadata": {
        "colab": {
          "base_uri": "https://localhost:8080/"
        },
        "id": "0SUQ_SJ65ajG",
        "outputId": "ec933138-79dc-49d8-f9e9-caf1c184b333"
      },
      "execution_count": 48,
      "outputs": [
        {
          "output_type": "stream",
          "name": "stdout",
          "text": [
            "oi, tudo bom\n"
          ]
        }
      ]
    },
    {
      "cell_type": "code",
      "source": [
        "words = \"123456\"\n",
        "print(words[1])"
      ],
      "metadata": {
        "colab": {
          "base_uri": "https://localhost:8080/"
        },
        "id": "fZfTaPk72kbO",
        "outputId": "b5435e14-a05e-4b43-a8e8-329acf5c4ec0"
      },
      "execution_count": 41,
      "outputs": [
        {
          "output_type": "stream",
          "name": "stdout",
          "text": [
            "2\n"
          ]
        }
      ]
    }
  ]
}